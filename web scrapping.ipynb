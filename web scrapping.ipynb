{
 "cells": [
  {
   "cell_type": "code",
   "execution_count": 12,
   "metadata": {},
   "outputs": [],
   "source": [
    "import requests\n",
    "from bs4 import BeautifulSoup"
   ]
  },
  {
   "cell_type": "code",
   "execution_count": 15,
   "metadata": {},
   "outputs": [],
   "source": [
    "response= requests.get('https://jekso.github.io/scrapping-example/index.html')\n",
    "# response.text\n",
    "soup= BeautifulSoup(response.text,'html.parser')"
   ]
  },
  {
   "cell_type": "code",
   "execution_count": 16,
   "metadata": {},
   "outputs": [
    {
     "data": {
      "text/plain": [
       "<!DOCTYPE html>\n",
       "\n",
       "<html>\n",
       "<head>\n",
       "<title>My First HTML Page</title>\n",
       "<style>\n",
       "\n",
       "            p {\n",
       "                color: green;\n",
       "                \n",
       "            }\n",
       "\n",
       "            h1 {\n",
       "                color:blue;\n",
       "                text-shadow: 2px 2px 5px red;\n",
       "            }\n",
       "\n",
       "\n",
       "            img {\n",
       "                width: 200px;\n",
       "                height: 200px;\n",
       "            }\n",
       "\n",
       "\n",
       "            select {\n",
       "                width: 300px;\n",
       "                height: 50px;\n",
       "                background-color: orange;\n",
       "            }\n",
       "\n",
       "            div#bigred {\n",
       "                width: 100%%;\n",
       "                height: 200px;\n",
       "                background-color: red;\n",
       "                margin: 20px;\n",
       "                color: white;\n",
       "            }\n",
       "\n",
       "\n",
       "            div#smallblue {\n",
       "                width: 100%%;\n",
       "                height: 100px;\n",
       "                background-color: blue;\n",
       "                margin: 20px;\n",
       "                color: yellow;\n",
       "            }\n",
       "\n",
       "            li.redul {\n",
       "                color: red;\n",
       "            }\n",
       "\n",
       "            li.blueol {\n",
       "                color:blue;\n",
       "            }\n",
       "\n",
       "            .h2_orange {\n",
       "                color: orange;\n",
       "            }\n",
       "\n",
       "            .jupyter_img {\n",
       "                width: 200px;\n",
       "                height: 200px;\n",
       "                border: solid green 3px;\n",
       "            }\n",
       "\n",
       "            .bg-yellow {\n",
       "                background-color: yellow;\n",
       "            }\n",
       "\n",
       "        </style>\n",
       "</head>\n",
       "<body>\n",
       "<p>Iam a paragrapph</p>\n",
       "<br/><hr/><br/>\n",
       "<h1>My First H1 Header</h1>\n",
       "<h1>My Second H1 Header</h1>\n",
       "<h2 class=\"h2_orange bg-yellow\">My First H2 Header</h2>\n",
       "<h2 class=\"h2_orange\">My Second H2 Header</h2>\n",
       "<h2>My 3rd H2 Header</h2>\n",
       "<br/><hr/><br/>\n",
       "<ul>\n",
       "<li class=\"redul\"> Milk </li>\n",
       "<li class=\"redul\"> Oranges </li>\n",
       "</ul>\n",
       "<br/><hr/><br/>\n",
       "<ol>\n",
       "<li class=\"blueol\"> Milk </li>\n",
       "<li class=\"blueol\"> Oranges </li>\n",
       "</ol>\n",
       "<br/><hr/><br/>\n",
       "<img class=\"jupyter_img\" src=\"my_img.png\"/>\n",
       "<br/><hr/><br/>\n",
       "<a href=\"http://www.google.com\">Go To Google</a>\n",
       "<br/><hr/><br/>\n",
       "<form>\n",
       "            Username: <input class=\"bg-yellow\" type=\"text\"/>\n",
       "<br/><br/>\n",
       "            Passowrd: <input type=\"password\"/>\n",
       "<br/><br/>\n",
       "<select>\n",
       "<option value=\"volvo\">Volvo</option>\n",
       "<option value=\"saab\">Saab</option>\n",
       "<option value=\"fiat\">Fiat</option>\n",
       "<option value=\"audi\">Audi</option>\n",
       "</select>\n",
       "<br/><br/>\n",
       "<input type=\"checkbox\"/>\n",
       "            I agree for the terms\n",
       "            <br/><br/>\n",
       "<input type=\"submit\" value=\"Search\"/>\n",
       "</form>\n",
       "<br/><hr/><br/>\n",
       "<table>\n",
       "<tr>\n",
       "<th>House Size</th>\n",
       "<th>Num of Rooms</th>\n",
       "<th class=\"bg-yellow\">Has Garden</th>\n",
       "<th>Price</th>\n",
       "</tr>\n",
       "<tr>\n",
       "<td>120</td>\n",
       "<td>3</td>\n",
       "<td>yes</td>\n",
       "<td>500000</td>\n",
       "</tr>\n",
       "<tr>\n",
       "<td>140</td>\n",
       "<td>4</td>\n",
       "<td class=\"bg-yellow\">no</td>\n",
       "<td>750000</td>\n",
       "</tr>\n",
       "<tr>\n",
       "<td>80</td>\n",
       "<td>1</td>\n",
       "<td>no</td>\n",
       "<td>300000</td>\n",
       "</tr>\n",
       "</table>\n",
       "<br/><hr/><br/>\n",
       "<iframe height=\"345\" src=\"https://www.youtube.com/embed/tgbNymZ7vqY\" width=\"420\"></iframe>\n",
       "<br/><hr/><br/>\n",
       "<div id=\"bigred\">\n",
       "            Hello world\n",
       "        </div>\n",
       "<br/><hr/><br/>\n",
       "<div id=\"smallblue\">\n",
       "            Hello python\n",
       "            <p>Iam a paragrapph</p>\n",
       "</div>\n",
       "</body>\n",
       "</html>"
      ]
     },
     "execution_count": 16,
     "metadata": {},
     "output_type": "execute_result"
    }
   ],
   "source": [
    "soup"
   ]
  },
  {
   "cell_type": "code",
   "execution_count": 18,
   "metadata": {},
   "outputs": [
    {
     "data": {
      "text/plain": [
       "[<li class=\"redul\"> Milk </li>, <li class=\"redul\"> Oranges </li>]"
      ]
     },
     "execution_count": 18,
     "metadata": {},
     "output_type": "execute_result"
    }
   ],
   "source": [
    "lis=soup.find_all('li',attrs={'class':'redul'})\n",
    "lis"
   ]
  },
  {
   "cell_type": "code",
   "execution_count": 24,
   "metadata": {},
   "outputs": [
    {
     "data": {
      "text/plain": [
       "'Milk'"
      ]
     },
     "execution_count": 24,
     "metadata": {},
     "output_type": "execute_result"
    }
   ],
   "source": [
    "lis[0].get_text().strip()"
   ]
  },
  {
   "cell_type": "code",
   "execution_count": 22,
   "metadata": {},
   "outputs": [
    {
     "data": {
      "text/plain": [
       "['redul']"
      ]
     },
     "execution_count": 22,
     "metadata": {},
     "output_type": "execute_result"
    }
   ],
   "source": [
    "lis[0].get('class')"
   ]
  },
  {
   "cell_type": "code",
   "execution_count": 23,
   "metadata": {},
   "outputs": [
    {
     "data": {
      "text/plain": [
       "{'class': ['redul']}"
      ]
     },
     "execution_count": 23,
     "metadata": {},
     "output_type": "execute_result"
    }
   ],
   "source": [
    "lis[0].attrs"
   ]
  },
  {
   "cell_type": "code",
   "execution_count": 26,
   "metadata": {},
   "outputs": [],
   "source": [
    "lis=soup.find_all('li',attrs={'class':'blueol'})"
   ]
  },
  {
   "cell_type": "code",
   "execution_count": 29,
   "metadata": {},
   "outputs": [
    {
     "name": "stdout",
     "output_type": "stream",
     "text": [
      "Milk\n",
      "Oranges\n"
     ]
    }
   ],
   "source": [
    "for li in lis :\n",
    "    print( li.get_text().strip() )"
   ]
  },
  {
   "cell_type": "code",
   "execution_count": 31,
   "metadata": {},
   "outputs": [
    {
     "data": {
      "text/plain": [
       "[<tr>\n",
       " <th>House Size</th>\n",
       " <th>Num of Rooms</th>\n",
       " <th class=\"bg-yellow\">Has Garden</th>\n",
       " <th>Price</th>\n",
       " </tr>,\n",
       " <tr>\n",
       " <td>120</td>\n",
       " <td>3</td>\n",
       " <td>yes</td>\n",
       " <td>500000</td>\n",
       " </tr>,\n",
       " <tr>\n",
       " <td>140</td>\n",
       " <td>4</td>\n",
       " <td class=\"bg-yellow\">no</td>\n",
       " <td>750000</td>\n",
       " </tr>,\n",
       " <tr>\n",
       " <td>80</td>\n",
       " <td>1</td>\n",
       " <td>no</td>\n",
       " <td>300000</td>\n",
       " </tr>]"
      ]
     },
     "execution_count": 31,
     "metadata": {},
     "output_type": "execute_result"
    }
   ],
   "source": [
    "lis2=soup.find_all('tr')\n",
    "lis2"
   ]
  },
  {
   "cell_type": "code",
   "execution_count": 91,
   "metadata": {},
   "outputs": [
    {
     "data": {
      "text/plain": [
       "<tr>\n",
       "<td>80</td>\n",
       "<td>1</td>\n",
       "<td>no</td>\n",
       "<td>300000</td>\n",
       "</tr>"
      ]
     },
     "execution_count": 91,
     "metadata": {},
     "output_type": "execute_result"
    }
   ],
   "source": [
    "lis2[-1]\n"
   ]
  },
  {
   "cell_type": "code",
   "execution_count": 74,
   "metadata": {},
   "outputs": [
    {
     "data": {
      "text/plain": [
       "[<td>80</td>, <td>1</td>, <td>no</td>, <td>300000</td>]"
      ]
     },
     "execution_count": 74,
     "metadata": {},
     "output_type": "execute_result"
    }
   ],
   "source": [
    "td=[]\n",
    "td=lis2[3].find_all('td')\n",
    "td\n"
   ]
  },
  {
   "cell_type": "code",
   "execution_count": null,
   "metadata": {},
   "outputs": [],
   "source": []
  },
  {
   "cell_type": "code",
   "execution_count": 90,
   "metadata": {},
   "outputs": [
    {
     "name": "stdout",
     "output_type": "stream",
     "text": [
      "80\n",
      "1\n",
      "no\n",
      "300000\n"
     ]
    }
   ],
   "source": [
    "for tb in td:\n",
    "    print(tb.get_text())"
   ]
  },
  {
   "cell_type": "code",
   "execution_count": 102,
   "metadata": {},
   "outputs": [
    {
     "data": {
      "text/plain": [
       "[<select>\n",
       " <option value=\"volvo\">Volvo</option>\n",
       " <option value=\"saab\">Saab</option>\n",
       " <option value=\"fiat\">Fiat</option>\n",
       " <option value=\"audi\">Audi</option>\n",
       " </select>]"
      ]
     },
     "execution_count": 102,
     "metadata": {},
     "output_type": "execute_result"
    }
   ],
   "source": [
    "lis4=soup.find_all('select')\n",
    "lis4"
   ]
  },
  {
   "cell_type": "code",
   "execution_count": 98,
   "metadata": {},
   "outputs": [],
   "source": [
    "tss=soup.find_all('option')"
   ]
  },
  {
   "cell_type": "code",
   "execution_count": 99,
   "metadata": {},
   "outputs": [
    {
     "name": "stdout",
     "output_type": "stream",
     "text": [
      "Volvo\n",
      "Saab\n",
      "Fiat\n",
      "Audi\n"
     ]
    }
   ],
   "source": [
    "for rf in tss:\n",
    "    print(rf.get_text())"
   ]
  },
  {
   "cell_type": "code",
   "execution_count": 101,
   "metadata": {},
   "outputs": [
    {
     "name": "stdout",
     "output_type": "stream",
     "text": [
      "volvo\n",
      "saab\n",
      "fiat\n",
      "audi\n"
     ]
    }
   ],
   "source": [
    "for op in soup.find('select').find_all('option'):\n",
    "    print(op.get('value'))"
   ]
  }
 ],
 "metadata": {
  "kernelspec": {
   "display_name": "Python 3",
   "language": "python",
   "name": "python3"
  },
  "language_info": {
   "codemirror_mode": {
    "name": "ipython",
    "version": 3
   },
   "file_extension": ".py",
   "mimetype": "text/x-python",
   "name": "python",
   "nbconvert_exporter": "python",
   "pygments_lexer": "ipython3",
   "version": "3.7.6"
  }
 },
 "nbformat": 4,
 "nbformat_minor": 4
}
