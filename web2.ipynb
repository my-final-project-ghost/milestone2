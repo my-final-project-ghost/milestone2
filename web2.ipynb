{
 "cells": [
  {
   "cell_type": "code",
   "execution_count": 1,
   "metadata": {},
   "outputs": [],
   "source": [
    "import requests\n",
    "from bs4 import BeautifulSoup\n",
    "\n",
    "response= requests.get('https://jekso.github.io/scrapping-example/index.html')\n",
    "# response.text\n",
    "soup= BeautifulSoup(response.text,'html.parser')\n",
    "\n",
    "\n",
    "\n",
    "\n",
    "\n"
   ]
  },
  {
   "cell_type": "code",
   "execution_count": 2,
   "metadata": {},
   "outputs": [
    {
     "data": {
      "text/plain": [
       "<!DOCTYPE html>\n",
       "\n",
       "<html>\n",
       "<head>\n",
       "<title>My First HTML Page</title>\n",
       "<style>\n",
       "\n",
       "            p {\n",
       "                color: green;\n",
       "                \n",
       "            }\n",
       "\n",
       "            h1 {\n",
       "                color:blue;\n",
       "                text-shadow: 2px 2px 5px red;\n",
       "            }\n",
       "\n",
       "\n",
       "            img {\n",
       "                width: 200px;\n",
       "                height: 200px;\n",
       "            }\n",
       "\n",
       "\n",
       "            select {\n",
       "                width: 300px;\n",
       "                height: 50px;\n",
       "                background-color: orange;\n",
       "            }\n",
       "\n",
       "            div#bigred {\n",
       "                width: 100%%;\n",
       "                height: 200px;\n",
       "                background-color: red;\n",
       "                margin: 20px;\n",
       "                color: white;\n",
       "            }\n",
       "\n",
       "\n",
       "            div#smallblue {\n",
       "                width: 100%%;\n",
       "                height: 100px;\n",
       "                background-color: blue;\n",
       "                margin: 20px;\n",
       "                color: yellow;\n",
       "            }\n",
       "\n",
       "            li.redul {\n",
       "                color: red;\n",
       "            }\n",
       "\n",
       "            li.blueol {\n",
       "                color:blue;\n",
       "            }\n",
       "\n",
       "            .h2_orange {\n",
       "                color: orange;\n",
       "            }\n",
       "\n",
       "            .jupyter_img {\n",
       "                width: 200px;\n",
       "                height: 200px;\n",
       "                border: solid green 3px;\n",
       "            }\n",
       "\n",
       "            .bg-yellow {\n",
       "                background-color: yellow;\n",
       "            }\n",
       "\n",
       "        </style>\n",
       "</head>\n",
       "<body>\n",
       "<p>Iam a paragrapph</p>\n",
       "<br/><hr/><br/>\n",
       "<h1>My First H1 Header</h1>\n",
       "<h1>My Second H1 Header</h1>\n",
       "<h2 class=\"h2_orange bg-yellow\">My First H2 Header</h2>\n",
       "<h2 class=\"h2_orange\">My Second H2 Header</h2>\n",
       "<h2>My 3rd H2 Header</h2>\n",
       "<br/><hr/><br/>\n",
       "<ul>\n",
       "<li class=\"redul\"> Milk </li>\n",
       "<li class=\"redul\"> Oranges </li>\n",
       "</ul>\n",
       "<br/><hr/><br/>\n",
       "<ol>\n",
       "<li class=\"blueol\"> Milk </li>\n",
       "<li class=\"blueol\"> Oranges </li>\n",
       "</ol>\n",
       "<br/><hr/><br/>\n",
       "<img class=\"jupyter_img\" src=\"my_img.png\"/>\n",
       "<br/><hr/><br/>\n",
       "<a href=\"http://www.google.com\">Go To Google</a>\n",
       "<br/><hr/><br/>\n",
       "<form>\n",
       "            Username: <input class=\"bg-yellow\" type=\"text\"/>\n",
       "<br/><br/>\n",
       "            Passowrd: <input type=\"password\"/>\n",
       "<br/><br/>\n",
       "<select>\n",
       "<option value=\"volvo\">Volvo</option>\n",
       "<option value=\"saab\">Saab</option>\n",
       "<option value=\"fiat\">Fiat</option>\n",
       "<option value=\"audi\">Audi</option>\n",
       "</select>\n",
       "<br/><br/>\n",
       "<input type=\"checkbox\"/>\n",
       "            I agree for the terms\n",
       "            <br/><br/>\n",
       "<input type=\"submit\" value=\"Search\"/>\n",
       "</form>\n",
       "<br/><hr/><br/>\n",
       "<table>\n",
       "<tr>\n",
       "<th>House Size</th>\n",
       "<th>Num of Rooms</th>\n",
       "<th class=\"bg-yellow\">Has Garden</th>\n",
       "<th>Price</th>\n",
       "</tr>\n",
       "<tr>\n",
       "<td>120</td>\n",
       "<td>3</td>\n",
       "<td>yes</td>\n",
       "<td>500000</td>\n",
       "</tr>\n",
       "<tr>\n",
       "<td>140</td>\n",
       "<td>4</td>\n",
       "<td class=\"bg-yellow\">no</td>\n",
       "<td>750000</td>\n",
       "</tr>\n",
       "<tr>\n",
       "<td>80</td>\n",
       "<td>1</td>\n",
       "<td>no</td>\n",
       "<td>300000</td>\n",
       "</tr>\n",
       "</table>\n",
       "<br/><hr/><br/>\n",
       "<iframe height=\"345\" src=\"https://www.youtube.com/embed/tgbNymZ7vqY\" width=\"420\"></iframe>\n",
       "<br/><hr/><br/>\n",
       "<div id=\"bigred\">\n",
       "            Hello world\n",
       "        </div>\n",
       "<br/><hr/><br/>\n",
       "<div id=\"smallblue\">\n",
       "            Hello python\n",
       "            <p>Iam a paragrapph</p>\n",
       "</div>\n",
       "</body>\n",
       "</html>"
      ]
     },
     "execution_count": 2,
     "metadata": {},
     "output_type": "execute_result"
    }
   ],
   "source": [
    "soup\n"
   ]
  },
  {
   "cell_type": "code",
   "execution_count": 3,
   "metadata": {},
   "outputs": [
    {
     "data": {
      "text/plain": [
       "[]"
      ]
     },
     "execution_count": 3,
     "metadata": {},
     "output_type": "execute_result"
    }
   ],
   "source": [
    "lis=soup.find_all('li',attrs={'class':'blueul'})\n",
    "lis"
   ]
  },
  {
   "cell_type": "code",
   "execution_count": 4,
   "metadata": {},
   "outputs": [
    {
     "ename": "IndexError",
     "evalue": "list index out of range",
     "output_type": "error",
     "traceback": [
      "\u001b[1;31m---------------------------------------------------------------------------\u001b[0m",
      "\u001b[1;31mIndexError\u001b[0m                                Traceback (most recent call last)",
      "\u001b[1;32m<ipython-input-4-f04f0b5deccb>\u001b[0m in \u001b[0;36m<module>\u001b[1;34m\u001b[0m\n\u001b[1;32m----> 1\u001b[1;33m \u001b[0mlis\u001b[0m\u001b[1;33m[\u001b[0m\u001b[1;36m0\u001b[0m\u001b[1;33m]\u001b[0m\u001b[1;33m.\u001b[0m\u001b[0mget_text\u001b[0m\u001b[1;33m(\u001b[0m\u001b[1;33m)\u001b[0m\u001b[1;33m.\u001b[0m\u001b[0mstrip\u001b[0m\u001b[1;33m(\u001b[0m\u001b[1;33m)\u001b[0m\u001b[1;33m\u001b[0m\u001b[1;33m\u001b[0m\u001b[0m\n\u001b[0m",
      "\u001b[1;31mIndexError\u001b[0m: list index out of range"
     ]
    }
   ],
   "source": [
    "lis[0].get_text().strip()\n"
   ]
  }
 ],
 "metadata": {
  "kernelspec": {
   "display_name": "Python 3",
   "language": "python",
   "name": "python3"
  },
  "language_info": {
   "codemirror_mode": {
    "name": "ipython",
    "version": 3
   },
   "file_extension": ".py",
   "mimetype": "text/x-python",
   "name": "python",
   "nbconvert_exporter": "python",
   "pygments_lexer": "ipython3",
   "version": "3.7.6"
  }
 },
 "nbformat": 4,
 "nbformat_minor": 4
}
